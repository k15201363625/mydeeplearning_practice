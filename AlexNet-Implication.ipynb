{
 "cells": [
  {
   "cell_type": "markdown",
   "metadata": {},
   "source": [
    "# AlexNet 2002"
   ]
  },
  {
   "cell_type": "markdown",
   "metadata": {},
   "source": [
    "## 技巧+实现\n",
    "- 分布式计算 有独立有联合\n",
    "- 224\\*224 两个全连接4096 输出1000类别\n",
    "- 1 2 5 后跟着maxpooling 不需要每个都有 \n",
    "- 首次使用RELU 更快 更适合CNN DNN\n",
    "- 使用dropout技术在全连接层 dropout = 0.5\n",
    "    - 组合解释\n",
    "        - 实现多个子网络训练并且自动组合 embedding\n",
    "    - 动机解释\n",
    "        - 消除网络之间依赖 从而难以过拟合数据 而在测试时全部保留 表现增强\n",
    "    - 数据解释\n",
    "        - 对于dropout输出的数据可以看做新的数据 间接数据增强\n",
    "  \n",
    "    > 全连接层参数过多\n",
    "- 数据增强：256 256 -> 224 224 随机采样\n",
    "- batchsize = 128\n",
    "- SGD Momentum = 0.9 使用动量梯度下降\n",
    "- 初学习率0.01 并且不断下降\n",
    "- 使用7个cnn组合\n",
    "- 局部归一化"
   ]
  },
  {
   "cell_type": "code",
   "execution_count": null,
   "metadata": {},
   "outputs": [],
   "source": [
    "import tensorflow as tf\n",
    "import sklearn \n",
    "import pandas as pd\n",
    "import matplotlib.pyplot as plt \n",
    "import numpy as np\n",
    "import os \n",
    "import math "
   ]
  },
  {
   "cell_type": "code",
   "execution_count": null,
   "metadata": {},
   "outputs": [],
   "source": []
  }
 ],
 "metadata": {
  "kernelspec": {
   "display_name": "Python 3",
   "language": "python",
   "name": "python3"
  },
  "language_info": {
   "codemirror_mode": {
    "name": "ipython",
    "version": 3
   },
   "file_extension": ".py",
   "mimetype": "text/x-python",
   "name": "python",
   "nbconvert_exporter": "python",
   "pygments_lexer": "ipython3",
   "version": "3.6.7"
  }
 },
 "nbformat": 4,
 "nbformat_minor": 2
}
