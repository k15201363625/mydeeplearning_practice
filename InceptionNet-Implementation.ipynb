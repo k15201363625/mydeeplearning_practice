{
 "cells": [
  {
   "cell_type": "markdown",
   "metadata": {},
   "source": [
    "# InceptionNet"
   ]
  },
  {
   "cell_type": "markdown",
   "metadata": {},
   "source": [
    "## 技巧+实现\n",
    "> 同样解决无法加深问题\n",
    "\n",
    "- google研发\n",
    "    - 注重工程 同样参数 更有效率(快) 更好效果(准)\n",
    "- 问题：\n",
    "    - 深度网络过拟合\n",
    "    - 深度网络难学习\n",
    "    - 深度网络参数过多 训练慢 而且虽然由于深而稀疏 但是系数减少 运算量不会减少\n",
    "    - 运算量不会减少原因： 系数矩阵计算比稠密矩阵计算更慢 使用稠密计算方式运算量则不会优化\n",
    "- v1(GoogleNet)\n",
    "    - 分组卷积 400的输出通道拆成多个 100\\*4 (1\\*1 3\\*3 5\\*5 maxpooling) 最后concat\n",
    "        - 分组实现：使用不同(大小)卷聚kernel 提取不同特征\n",
    "        - 分组实现：不相互交叉 分别计算  并行\n",
    "        - 分组实现：减少计算量 通过借助1\\*1进一步减少计算量\n",
    "- v2 使用3\\*3等视野域替代\n",
    "- v3 使用1\\*3 3\\*1代替3\\*3 进一步减少参数 拓展1\\*n+n\\*1\n",
    "- v4 进一步引入skip connection (res残差连接)\n",
    "- 实现细节：\n",
    "    - 对于vi版本\n",
    "    - 卷积部分可以使用**前置**1\\*1 实现reduce参数\n",
    "    - maxpooling通常使用**后置**1\\*1 实现通道数目改变\n",
    "    - 通道数目参差不齐 并非严格按照2指数次方增长"
   ]
  },
  {
   "cell_type": "code",
   "execution_count": 2,
   "metadata": {},
   "outputs": [
    {
     "name": "stdout",
     "output_type": "stream",
     "text": [
      "['batches.meta', 'data_batch_1', 'data_batch_2', 'data_batch_3', 'data_batch_4', 'data_batch_5', 'readme.html', 'test_batch']\n"
     ]
    }
   ],
   "source": [
    "import tensorflow as tf\n",
    "import os\n",
    "import pickle\n",
    "import numpy as np\n",
    "import pandas as pd\n",
    "import matplotlib.pyplot as plt\n",
    "\n",
    "CIFAR_DIR = './cifar-10-batches-py'\n",
    "print(os.listdir(CIFAR_DIR))"
   ]
  },
  {
   "cell_type": "markdown",
   "metadata": {},
   "source": [
    "### inception block"
   ]
  },
  {
   "cell_type": "code",
   "execution_count": 12,
   "metadata": {},
   "outputs": [],
   "source": [
    "def inception_block(x,output_channel_for_each_path,\n",
    "                    conv_kernel_for_each_path,name):\n",
    "    \"\"\"inception block implementation\"\"\"\n",
    "    \"\"\"\n",
    "    Args:\n",
    "    - output_channel_for_each_path: a.g.:[16,32,32] pooling不变通道数目\n",
    "    - conv_kernel_for_each_path: e.g.:default [(1,1),(3,3),(5,5)]\n",
    "    - name: 区分当前inception block\n",
    "    - 此处使用1*1 3*3 5*5 + maxpooling\n",
    "    \"\"\"\n",
    "    with tf.variable_scope(name):\n",
    "        assert len(conv_kernel_for_each_path) == len(output_channel_for_each_path)\n",
    "        layers = []\n",
    "        for i in range(len(conv_kernel_for_each_path)):\n",
    "            conv_now = tf.layers.conv2d(x,\n",
    "                                        output_channel_for_each_path[i],\n",
    "                                        conv_kernel_for_each_path[i],\n",
    "                                        strides=(1,1),padding='same',\n",
    "                                        activation=tf.nn.relu,\n",
    "                                        name='conv%d_%d'%(conv_kernel_for_each_path[i][0],conv_kernel_for_each_path[i][1]))\n",
    "            layers.append(conv_now)\n",
    "        max_pooling = tf.layers.max_pooling2d(x,(2,2),(2,2),name='max_pooling')\n",
    "        # 拼接 完成对于maxpooling的填充\n",
    "        max_poolimg_shape = max_pooling.get_shape().as_list()[1:]\n",
    "        input_shape = x.get_shape().as_list()[1:]\n",
    "        width_padding = (input_shape[0]-max_poolimg_shape[0])//2\n",
    "        height_padding = (input_shape[1]-max_poolimg_shape[1])//2\n",
    "        padded_pooling = tf.pad(max_pooling,\n",
    "                                [[0,0],\n",
    "                                [width_padding,width_padding],\n",
    "                                [height_padding,height_padding],\n",
    "                                [0,0]])\n",
    "        # 将输出通道变得相同 不是必须的\n",
    "        conved_pooling = tf.layers.conv2d(padded_pooling,\n",
    "                                          output_channel_for_each_path[0],\n",
    "                                          (1,1),padding='same',\n",
    "                                          activation='relu',\n",
    "                                          name='nonlinear_conv1_1'\n",
    "                                         )\n",
    "        layers.append(conved_pooling)\n",
    "#         concat_layer = tf.concat([layer for layer in layers]+padded_pooling,\n",
    "#                                 axis = 3)\n",
    "        concat_layer = tf.concat([layer for layer in layers],\n",
    "                                 axis = 3)\n",
    "        return concat_layer\n",
    "    \n",
    "\n",
    "        "
   ]
  },
  {
   "cell_type": "markdown",
   "metadata": {},
   "source": [
    "### model "
   ]
  },
  {
   "cell_type": "code",
   "execution_count": 15,
   "metadata": {},
   "outputs": [
    {
     "name": "stdout",
     "output_type": "stream",
     "text": [
      "(?, 1024) (?, 4, 4, 64)\n"
     ]
    }
   ],
   "source": [
    "tf.reset_default_graph()\n",
    "x = tf.placeholder(tf.float32, [None, 3072])\n",
    "y = tf.placeholder(tf.int64, [None])\n",
    "# [None], eg: [0,5,6,3]\n",
    "x_image = tf.reshape(x, [-1, 3, 32, 32])\n",
    "# 32*32\n",
    "x_image = tf.transpose(x_image, perm=[0, 2, 3, 1])\n",
    "# model constitute\n",
    "conv1 = tf.layers.conv2d(x_image,32,(3,3),padding='same',\n",
    "                         activation=tf.nn.relu,name='conv1')\n",
    "pooling1 = tf.layers.max_pooling2d(conv1,(2,2),(2,2),name='pool1')\n",
    "\n",
    "\n",
    "inception_2a = inception_block(pooling1,[16,16,16],\n",
    "                               [(1,1),(3,3),(5,5)],name='inception_2a')\n",
    "inception_2b = inception_block(inception_2a,[16,16,16],\n",
    "                               [(1,1),(3,3),(5,5)],name='inception_2b')\n",
    "pooling2 = tf.layers.max_pooling2d(inception_2b,(2,2),(2,2),name='pool2')\n",
    "\n",
    "\n",
    "inception_3a = inception_block(pooling2,[16,16,16],\n",
    "                               [(1,1),(3,3),(5,5)],name='inception_3a')\n",
    "inception_3b = inception_block(inception_3a,[16,16,16],\n",
    "                               [(1,1),(3,3),(5,5)],name='inception_3b')\n",
    "pooling3 = tf.layers.max_pooling2d(inception_3b,(2,2),(2,2),name='pool3')\n",
    "\n",
    "# 保持batchsize维度 其他维度展平 便于fc\n",
    "flatten = tf.layers.flatten(pooling3)\n",
    "print(flatten.get_shape(),pooling3.get_shape())\n",
    "\n",
    "y_predict = tf.layers.dense(flatten,10,name='fc_output')\n",
    "\n",
    "loss = tf.losses.sparse_softmax_cross_entropy(labels=y,logits=y_predict)\n",
    "\n",
    "correct_prediction = tf.equal(tf.argmax(y_predict,1),y)\n",
    "accuracy = tf.reduce_mean(tf.cast(correct_prediction,tf.float64))\n",
    "\n",
    "with tf.variable_scope('train_op'):\n",
    "    train_op = tf.train.AdamOptimizer(1e-3).minimize(loss)\n"
   ]
  },
  {
   "cell_type": "markdown",
   "metadata": {},
   "source": [
    "### load data"
   ]
  },
  {
   "cell_type": "code",
   "execution_count": 16,
   "metadata": {},
   "outputs": [
    {
     "name": "stdout",
     "output_type": "stream",
     "text": [
      "(50000, 3072)\n",
      "(50000,)\n",
      "(10000, 3072)\n",
      "(10000,)\n"
     ]
    }
   ],
   "source": [
    "def load_data(filename):\n",
    "    \"\"\"read data from data file.\"\"\"\n",
    "    with open(filename, 'rb') as f:\n",
    "        data = pickle.load(f, encoding='bytes')\n",
    "        return data[b'data'], data[b'labels']\n",
    "\n",
    "# tensorflow.Dataset.\n",
    "class CifarData:\n",
    "    def __init__(self, filenames, need_shuffle):\n",
    "        all_data = []\n",
    "        all_labels = []\n",
    "        for filename in filenames:\n",
    "            data, labels = load_data(filename)\n",
    "            all_data.append(data)\n",
    "            all_labels.append(labels)\n",
    "        # hstack vstack 用于合并二维数组变成矩阵形式\n",
    "        self._data = np.vstack(all_data)\n",
    "        self._data = self._data / 127.5 - 1\n",
    "        # 小心\n",
    "        self._labels = np.hstack(all_labels)\n",
    "        print(self._data.shape)\n",
    "        print(self._labels.shape)\n",
    "        \n",
    "        self._num_examples = self._data.shape[0]\n",
    "        self._need_shuffle = need_shuffle\n",
    "        self._indicator = 0\n",
    "        if self._need_shuffle:\n",
    "            self._shuffle_data()\n",
    "            \n",
    "    def _shuffle_data(self):\n",
    "        # [0,1,2,3,4,5] -> [5,3,2,4,0,1]\n",
    "        p = np.random.permutation(self._num_examples)\n",
    "        self._data = self._data[p]\n",
    "        self._labels = self._labels[p]\n",
    "    \n",
    "    def next_batch(self, batch_size):\n",
    "        \"\"\"return batch_size examples as a batch.\"\"\"\n",
    "        end_indicator = self._indicator + batch_size\n",
    "        if end_indicator > self._num_examples:\n",
    "            if self._need_shuffle:\n",
    "                self._shuffle_data()\n",
    "                self._indicator = 0\n",
    "                end_indicator = batch_size\n",
    "            else:\n",
    "                raise Exception(\"have no more examples\")\n",
    "        if end_indicator > self._num_examples:\n",
    "            raise Exception(\"batch size is larger than all examples\")\n",
    "        batch_data = self._data[self._indicator: end_indicator]\n",
    "        batch_labels = self._labels[self._indicator: end_indicator]\n",
    "        self._indicator = end_indicator\n",
    "        return batch_data, batch_labels\n",
    "\n",
    "train_filenames = [os.path.join(CIFAR_DIR, 'data_batch_%d' % i) for i in range(1, 6)]\n",
    "test_filenames = [os.path.join(CIFAR_DIR, 'test_batch')]\n",
    "\n",
    "train_data = CifarData(train_filenames, True)\n",
    "test_data = CifarData(test_filenames, False)"
   ]
  },
  {
   "cell_type": "markdown",
   "metadata": {},
   "source": [
    "### train"
   ]
  },
  {
   "cell_type": "code",
   "execution_count": 17,
   "metadata": {},
   "outputs": [
    {
     "name": "stdout",
     "output_type": "stream",
     "text": [
      "[Train] Step: 50, loss: 2.00426, acc: 0.25000\n",
      "[Train] Step: 100, loss: 1.86387, acc: 0.30000\n",
      "[Train] Step: 150, loss: 1.81539, acc: 0.30000\n",
      "[Train] Step: 200, loss: 1.97323, acc: 0.35000\n",
      "(10000, 3072)\n",
      "(10000,)\n",
      "[Test ] Step: 200, acc: 0.38450\n",
      "[Train] Step: 250, loss: 1.51926, acc: 0.50000\n",
      "[Train] Step: 300, loss: 1.56729, acc: 0.50000\n",
      "[Train] Step: 350, loss: 1.64601, acc: 0.35000\n",
      "[Train] Step: 400, loss: 1.46784, acc: 0.45000\n",
      "(10000, 3072)\n",
      "(10000,)\n",
      "[Test ] Step: 400, acc: 0.43950\n",
      "[Train] Step: 450, loss: 1.56069, acc: 0.50000\n",
      "[Train] Step: 500, loss: 1.27828, acc: 0.65000\n",
      "[Train] Step: 550, loss: 1.27106, acc: 0.40000\n",
      "[Train] Step: 600, loss: 1.59575, acc: 0.30000\n",
      "(10000, 3072)\n",
      "(10000,)\n",
      "[Test ] Step: 600, acc: 0.47100\n",
      "[Train] Step: 650, loss: 1.23374, acc: 0.55000\n",
      "[Train] Step: 700, loss: 1.33256, acc: 0.40000\n",
      "[Train] Step: 750, loss: 1.20717, acc: 0.65000\n",
      "[Train] Step: 800, loss: 1.44536, acc: 0.45000\n",
      "(10000, 3072)\n",
      "(10000,)\n",
      "[Test ] Step: 800, acc: 0.46300\n",
      "[Train] Step: 850, loss: 1.45220, acc: 0.55000\n",
      "[Train] Step: 900, loss: 1.03690, acc: 0.60000\n",
      "[Train] Step: 950, loss: 1.13370, acc: 0.60000\n",
      "[Train] Step: 1000, loss: 1.56846, acc: 0.30000\n",
      "(10000, 3072)\n",
      "(10000,)\n",
      "[Test ] Step: 1000, acc: 0.54100\n"
     ]
    }
   ],
   "source": [
    "# cfg = tf.ConfigProto(allow_soft_placement=True )\n",
    "# cfg.gpu_options.allow_growth = True\n",
    "config = tf.ConfigProto()\n",
    "config.gpu_options.allow_growth = True \n",
    "\n",
    "init = tf.global_variables_initializer()\n",
    "batch_size = 20\n",
    "train_steps = 1000\n",
    "test_steps = 100\n",
    "\n",
    "# train 10k: 71.35%\n",
    "with tf.Session(config=config) as sess:\n",
    "    sess.run(init)\n",
    "    for i in range(train_steps):\n",
    "        batch_data, batch_labels = train_data.next_batch(batch_size)\n",
    "        loss_val, acc_val, _ = sess.run(\n",
    "            [loss, accuracy, train_op],\n",
    "            feed_dict={\n",
    "                x: batch_data,\n",
    "                y: batch_labels})\n",
    "        if (i+1) % 50 == 0:\n",
    "            print('[Train] Step: %d, loss: %4.5f, acc: %4.5f' % (i+1, loss_val, acc_val))\n",
    "        if (i+1) % 200 == 0:\n",
    "            test_data = CifarData(test_filenames, False)\n",
    "            all_test_acc_val = []\n",
    "            for j in range(test_steps):\n",
    "                test_batch_data, test_batch_labels \\\n",
    "                    = test_data.next_batch(batch_size)\n",
    "                test_acc_val = sess.run(\n",
    "                    [accuracy],\n",
    "                    feed_dict = {\n",
    "                        x: test_batch_data, \n",
    "                        y: test_batch_labels\n",
    "                    })\n",
    "                all_test_acc_val.append(test_acc_val)\n",
    "            test_acc = np.mean(all_test_acc_val)\n",
    "            print('[Test ] Step: %d, acc: %4.5f' % (i+1, test_acc))"
   ]
  },
  {
   "cell_type": "code",
   "execution_count": null,
   "metadata": {},
   "outputs": [],
   "source": []
  }
 ],
 "metadata": {
  "kernelspec": {
   "display_name": "Python 3",
   "language": "python",
   "name": "python3"
  },
  "language_info": {
   "codemirror_mode": {
    "name": "ipython",
    "version": 3
   },
   "file_extension": ".py",
   "mimetype": "text/x-python",
   "name": "python",
   "nbconvert_exporter": "python",
   "pygments_lexer": "ipython3",
   "version": "3.6.7"
  }
 },
 "nbformat": 4,
 "nbformat_minor": 2
}
