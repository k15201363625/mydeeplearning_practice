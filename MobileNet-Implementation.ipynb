{
 "cells": [
  {
   "cell_type": "markdown",
   "metadata": {},
   "source": [
    "# MobileNet + 计算量问题"
   ]
  },
  {
   "cell_type": "markdown",
   "metadata": {},
   "source": [
    "## 技巧+实现\n",
    "- depthwise conv 深度可分离卷积\n",
    "    - 分组卷积 + 分到极致 + kernel规模相同\n",
    "    - 首先通过一个输出通道为1的1\\*1 非线性变换 使得每个卷积输入通道为1\n",
    "    - 减少了参数 减少了计算量\n",
    "    - 目标：在移动设备等上 减少计算量\n",
    "    - 问题：精度有所损失 <10%\n",
    "- 等价模型：\n",
    "    - 3\\*3 + bn + relu == depthwise 3\\*3 conv + bn + relu + 1\\*1 + bn + relu\n",
    "    \n",
    "- 计算量问题：\n",
    "    - 参数!=计算量(ci co输入输出通道数目)\n",
    "    - 卷积参数 ci\\*co\\*kw\\*kh\n",
    "    - 计算量 ci\\*co\\*kw\\*kh\\*ow\\*oh\n",
    "    - **mobileNet优化**：\n",
    "        - 深度可分离层：kw\\*kh\\*ow\\*oh\\*1\\*ci (ci表示多个1输出拼接 一共有ci个 本身的输出通道1)\n",
    "        - 1\\*1卷积 1\\*1\\*ow\\*oh\\*ci\\*co (ci为合成好的 co为输出的通道数目)\n",
    "        - 将以上计算量相加为总计算量\n",
    "        \n",
    "- 实现技巧\n",
    "    - 使用split进行拆分\n",
    "    - 使用concat进行组合\n",
    "    - 使用scope加以区分\n",
    "    - 1\\*1 后置\n",
    "    \n",
    "> 当成普通卷积层就可以了 主要目标是加速运算 \n",
    "只需要将原来的3\\*3 通过分组合并+后置1\\*1实现变换\n"
   ]
  },
  {
   "cell_type": "code",
   "execution_count": 1,
   "metadata": {},
   "outputs": [
    {
     "name": "stdout",
     "output_type": "stream",
     "text": [
      "['batches.meta', 'data_batch_1', 'data_batch_2', 'data_batch_3', 'data_batch_4', 'data_batch_5', 'readme.html', 'test_batch']\n"
     ]
    }
   ],
   "source": [
    "import tensorflow as tf\n",
    "import os\n",
    "import pickle\n",
    "import numpy as np\n",
    "\n",
    "CIFAR_DIR = './cifar-10-batches-py'\n",
    "print(os.listdir(CIFAR_DIR))"
   ]
  },
  {
   "cell_type": "markdown",
   "metadata": {},
   "source": [
    "### mobilenet"
   ]
  },
  {
   "cell_type": "code",
   "execution_count": 4,
   "metadata": {},
   "outputs": [],
   "source": [
    "def separable_block(x,output_channel_num,name):\n",
    "    \"\"\"inception block implementation\"\"\"\n",
    "    \"\"\"\n",
    "    Args:\n",
    "    - output_channel_num: output_channel of 1*1 con layer\n",
    "    - name: 区分当前inception block\n",
    "    - 此处使用1*1 3*3 5*5 + maxpooling\n",
    "    \"\"\"\n",
    "    with tf.variable_scope(name):\n",
    "        input_channel = x.get_shape().as_list()[-1]\n",
    "        # 分拆后的x\n",
    "        channel_wise_x = tf.split(x,input_channel,axis=3)\n",
    "        outputs = []\n",
    "        \n",
    "        for i in range(len(channel_wise_x)):\n",
    "            output = tf.layers.conv2d(channel_wise_x[i],\n",
    "                                        1,\n",
    "                                        (3,3),\n",
    "                                        strides=(1,1),padding='same',\n",
    "                                        activation=tf.nn.relu,\n",
    "                                        name='conv%d'%i)\n",
    "            outputs.append(output)\n",
    "            \n",
    "        # concat\n",
    "        concat_layer = tf.concat(outputs,axis=3)\n",
    "        # conv1_1 处理\n",
    "        conv1_1 = tf.layers.conv2d(concat_layer,output_channel_num,\n",
    "                           (1,1),strides=(1,1),padding='same',\n",
    "                           activation=tf.nn.relu,name='conv1_1')\n",
    "        \n",
    "        return conv1_1"
   ]
  },
  {
   "cell_type": "markdown",
   "metadata": {},
   "source": [
    "### model"
   ]
  },
  {
   "cell_type": "code",
   "execution_count": 5,
   "metadata": {},
   "outputs": [
    {
     "name": "stdout",
     "output_type": "stream",
     "text": [
      "(?, 2048) (?, 4, 4, 128)\n"
     ]
    }
   ],
   "source": [
    "tf.reset_default_graph()\n",
    "x = tf.placeholder(tf.float32, [None, 3072])\n",
    "y = tf.placeholder(tf.int64, [None])\n",
    "# [None], eg: [0,5,6,3]\n",
    "x_image = tf.reshape(x, [-1, 3, 32, 32])\n",
    "# 32*32\n",
    "x_image = tf.transpose(x_image, perm=[0, 2, 3, 1])\n",
    "# model constitute\n",
    "conv1 = tf.layers.conv2d(x_image,32,(3,3),padding='same',\n",
    "                         activation=tf.nn.relu,name='conv1')\n",
    "pooling1 = tf.layers.max_pooling2d(conv1,(2,2),(2,2),name='pool1')\n",
    "\n",
    "\n",
    "separable_2a = separable_block(pooling1,64,name='separable_2a')\n",
    "separable_2b = separable_block(separable_2a,64,name='separable_2b')\n",
    "pooling2 = tf.layers.max_pooling2d(separable_2b,(2,2),(2,2),name='pool2')\n",
    "\n",
    "\n",
    "separable_3a = separable_block(pooling2,128,name='separable_3a')\n",
    "separable_3b = separable_block(separable_3a,128,name='separable_3b')\n",
    "pooling3 = tf.layers.max_pooling2d(separable_3b,(2,2),(2,2),name='pool3')\n",
    "\n",
    "# 保持batchsize维度 其他维度展平 便于fc\n",
    "flatten = tf.layers.flatten(pooling3)\n",
    "print(flatten.get_shape(),pooling3.get_shape())\n",
    "\n",
    "y_predict = tf.layers.dense(flatten,10,name='fc_output')\n",
    "\n",
    "loss = tf.losses.sparse_softmax_cross_entropy(labels=y,logits=y_predict)\n",
    "\n",
    "correct_prediction = tf.equal(tf.argmax(y_predict,1),y)\n",
    "accuracy = tf.reduce_mean(tf.cast(correct_prediction,tf.float64))\n",
    "\n",
    "with tf.variable_scope('train_op'):\n",
    "    train_op = tf.train.AdamOptimizer(1e-3).minimize(loss)"
   ]
  },
  {
   "cell_type": "markdown",
   "metadata": {},
   "source": [
    "### load data"
   ]
  },
  {
   "cell_type": "code",
   "execution_count": 7,
   "metadata": {},
   "outputs": [
    {
     "name": "stdout",
     "output_type": "stream",
     "text": [
      "(50000, 3072)\n",
      "(50000,)\n",
      "(10000, 3072)\n",
      "(10000,)\n"
     ]
    }
   ],
   "source": [
    "def load_data(filename):\n",
    "    \"\"\"read data from data file.\"\"\"\n",
    "    with open(filename, 'rb') as f:\n",
    "        data = pickle.load(f, encoding='bytes')\n",
    "        return data[b'data'], data[b'labels']\n",
    "\n",
    "# tensorflow.Dataset.\n",
    "class CifarData:\n",
    "    def __init__(self, filenames, need_shuffle):\n",
    "        all_data = []\n",
    "        all_labels = []\n",
    "        for filename in filenames:\n",
    "            data, labels = load_data(filename)\n",
    "            all_data.append(data)\n",
    "            all_labels.append(labels)\n",
    "        # hstack vstack 用于合并二维数组变成矩阵形式\n",
    "        self._data = np.vstack(all_data)\n",
    "        self._data = self._data / 127.5 - 1\n",
    "        # 小心\n",
    "        self._labels = np.hstack(all_labels)\n",
    "        print(self._data.shape)\n",
    "        print(self._labels.shape)\n",
    "        \n",
    "        self._num_examples = self._data.shape[0]\n",
    "        self._need_shuffle = need_shuffle\n",
    "        self._indicator = 0\n",
    "        if self._need_shuffle:\n",
    "            self._shuffle_data()\n",
    "            \n",
    "    def _shuffle_data(self):\n",
    "        # [0,1,2,3,4,5] -> [5,3,2,4,0,1]\n",
    "        p = np.random.permutation(self._num_examples)\n",
    "        self._data = self._data[p]\n",
    "        self._labels = self._labels[p]\n",
    "    \n",
    "    def next_batch(self, batch_size):\n",
    "        \"\"\"return batch_size examples as a batch.\"\"\"\n",
    "        end_indicator = self._indicator + batch_size\n",
    "        if end_indicator > self._num_examples:\n",
    "            if self._need_shuffle:\n",
    "                self._shuffle_data()\n",
    "                self._indicator = 0\n",
    "                end_indicator = batch_size\n",
    "            else:\n",
    "                raise Exception(\"have no more examples\")\n",
    "        if end_indicator > self._num_examples:\n",
    "            raise Exception(\"batch size is larger than all examples\")\n",
    "        batch_data = self._data[self._indicator: end_indicator]\n",
    "        batch_labels = self._labels[self._indicator: end_indicator]\n",
    "        self._indicator = end_indicator\n",
    "        return batch_data, batch_labels\n",
    "\n",
    "train_filenames = [os.path.join(CIFAR_DIR, 'data_batch_%d' % i) for i in range(1, 6)]\n",
    "test_filenames = [os.path.join(CIFAR_DIR, 'test_batch')]\n",
    "\n",
    "train_data = CifarData(train_filenames, True)\n",
    "test_data = CifarData(test_filenames, False)"
   ]
  },
  {
   "cell_type": "markdown",
   "metadata": {},
   "source": [
    "### train"
   ]
  },
  {
   "cell_type": "code",
   "execution_count": 8,
   "metadata": {},
   "outputs": [
    {
     "name": "stdout",
     "output_type": "stream",
     "text": [
      "[Train] Step: 50, loss: 2.10032, acc: 0.25000\n",
      "[Train] Step: 100, loss: 2.25024, acc: 0.10000\n",
      "[Train] Step: 150, loss: 1.97786, acc: 0.25000\n",
      "[Train] Step: 200, loss: 2.23641, acc: 0.15000\n",
      "(10000, 3072)\n",
      "(10000,)\n",
      "[Test ] Step: 200, acc: 0.27500\n",
      "[Train] Step: 250, loss: 1.87660, acc: 0.20000\n",
      "[Train] Step: 300, loss: 1.56968, acc: 0.45000\n",
      "[Train] Step: 350, loss: 1.44084, acc: 0.40000\n",
      "[Train] Step: 400, loss: 1.55556, acc: 0.35000\n",
      "(10000, 3072)\n",
      "(10000,)\n",
      "[Test ] Step: 400, acc: 0.34850\n",
      "[Train] Step: 450, loss: 1.82178, acc: 0.40000\n",
      "[Train] Step: 500, loss: 1.47369, acc: 0.55000\n",
      "[Train] Step: 550, loss: 1.47868, acc: 0.40000\n",
      "[Train] Step: 600, loss: 1.40704, acc: 0.50000\n",
      "(10000, 3072)\n",
      "(10000,)\n",
      "[Test ] Step: 600, acc: 0.43900\n",
      "[Train] Step: 650, loss: 1.86479, acc: 0.40000\n",
      "[Train] Step: 700, loss: 1.35214, acc: 0.40000\n",
      "[Train] Step: 750, loss: 2.24117, acc: 0.20000\n",
      "[Train] Step: 800, loss: 1.57967, acc: 0.30000\n",
      "(10000, 3072)\n",
      "(10000,)\n",
      "[Test ] Step: 800, acc: 0.46850\n",
      "[Train] Step: 850, loss: 1.31377, acc: 0.55000\n",
      "[Train] Step: 900, loss: 1.56861, acc: 0.40000\n",
      "[Train] Step: 950, loss: 1.26761, acc: 0.50000\n",
      "[Train] Step: 1000, loss: 1.38560, acc: 0.55000\n",
      "(10000, 3072)\n",
      "(10000,)\n",
      "[Test ] Step: 1000, acc: 0.46600\n"
     ]
    }
   ],
   "source": [
    "# cfg = tf.ConfigProto(allow_soft_placement=True )\n",
    "# cfg.gpu_options.allow_growth = True\n",
    "config = tf.ConfigProto()\n",
    "config.gpu_options.allow_growth = True \n",
    "\n",
    "init = tf.global_variables_initializer()\n",
    "batch_size = 20\n",
    "train_steps = 1000\n",
    "test_steps = 100\n",
    "\n",
    "# train 10k: 71.35%\n",
    "with tf.Session(config=config) as sess:\n",
    "    sess.run(init)\n",
    "    for i in range(train_steps):\n",
    "        batch_data, batch_labels = train_data.next_batch(batch_size)\n",
    "        loss_val, acc_val, _ = sess.run(\n",
    "            [loss, accuracy, train_op],\n",
    "            feed_dict={\n",
    "                x: batch_data,\n",
    "                y: batch_labels})\n",
    "        if (i+1) % 50 == 0:\n",
    "            print('[Train] Step: %d, loss: %4.5f, acc: %4.5f' % (i+1, loss_val, acc_val))\n",
    "        if (i+1) % 200 == 0:\n",
    "            test_data = CifarData(test_filenames, False)\n",
    "            all_test_acc_val = []\n",
    "            for j in range(test_steps):\n",
    "                test_batch_data, test_batch_labels \\\n",
    "                    = test_data.next_batch(batch_size)\n",
    "                test_acc_val = sess.run(\n",
    "                    [accuracy],\n",
    "                    feed_dict = {\n",
    "                        x: test_batch_data, \n",
    "                        y: test_batch_labels\n",
    "                    })\n",
    "                all_test_acc_val.append(test_acc_val)\n",
    "            test_acc = np.mean(all_test_acc_val)\n",
    "            print('[Test ] Step: %d, acc: %4.5f' % (i+1, test_acc))"
   ]
  },
  {
   "cell_type": "code",
   "execution_count": null,
   "metadata": {},
   "outputs": [],
   "source": []
  }
 ],
 "metadata": {
  "kernelspec": {
   "display_name": "Python 3",
   "language": "python",
   "name": "python3"
  },
  "language_info": {
   "codemirror_mode": {
    "name": "ipython",
    "version": 3
   },
   "file_extension": ".py",
   "mimetype": "text/x-python",
   "name": "python",
   "nbconvert_exporter": "python",
   "pygments_lexer": "ipython3",
   "version": "3.6.7"
  }
 },
 "nbformat": 4,
 "nbformat_minor": 2
}
