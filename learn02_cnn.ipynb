{
 "cells": [
  {
   "cell_type": "markdown",
   "metadata": {
    "colab_type": "text",
    "id": "u5htTTfSVDqS"
   },
   "source": []
  },
  {
   "cell_type": "markdown",
   "metadata": {
    "colab_type": "text",
    "id": "FGIN3eBpVNpw"
   },
   "source": [
    "# 卷积神经网络"
   ]
  },
  {
   "cell_type": "markdown",
   "metadata": {
    "colab_type": "text",
    "id": "K08aO02-VcXB"
   },
   "source": [
    "### review\n",
    "- 神经元\n",
    "- 正向传播\n",
    "- 反向传播\n",
    "- 激活函数 relu selu\n",
    "- 二分类sigmoid\n",
    "- 多分类softmax\n",
    "- 目标函数/损失函数 \n",
    "\n",
    "### 多层神经网络\n",
    "- 正反向传播\n",
    "- 随机梯度下降\n",
    "- 梯度下降问题与优化\n",
    "    - 问题\n",
    "        - 全部数据内存不够 速度太慢\n",
    "        - 随机梯度法难以收敛\n",
    "        - 局部极值点 鞍点(shaddle point)\n",
    "        - 震荡问题\n",
    "    - 改进\n",
    "        - **mini batch** 改进随机梯度 因为使用了分布特征\n",
    "        - **SGD+MOMENTIUM（随机梯度+动量驱动）** 改进minibatch 解决局部极值 加速开始时速度 缓解震荡\n",
    "        \n",
    "### 卷积神经网络\n",
    "- 卷积summary（引入思想）\n",
    "    - locally connect 局部连接\n",
    "    > 原因：图像呈现局部信息 并且可以减少参数\n",
    "    - 参数共享\n",
    "    > 原因：图像特征信息与位置无关 所以一个局部连接参数可以应用推广到全局 \n",
    "    - 多通道输出\n",
    "    > 原因：单个特征提取太过单一 多通道生成多个特征提取结果\n",
    "    - 多通道输入 \n",
    "    > 解决：对于RGB使用3*n*n作为kernel可以解决\n",
    "- 参数关系(参数关系数值计算)\n",
    "    - padding P\n",
    "    > 保证可以提取到边角信息\n",
    "    - stride S\n",
    "    > 确定局部信息提取精度\n",
    "    - kernel size n\n",
    "    - 计算：\n",
    "        - 输出尺寸 = (n-p)/s+1\n",
    "        - 参数个数 = kw*kh*ci*co\n",
    "        > ci co 输入输出通道数目 S P 不是可以求导的参数 是超参数\n",
    "        \n",
    "### 激活函数\n",
    "- relu\n",
    "- selu 有自动归一化作用\n",
    "- leaky relu\n",
    "- maxout\n",
    "- tanh sigmoid\n",
    "> 作用：非线性\n",
    "> 特征：单调性 非线性 需要数据归一化\n",
    "\n",
    "### 池化层\n",
    "- max polling\n",
    "- average polling\n",
    "- 特征\n",
    "    - stride size 不是训练参数 而是超参数\n",
    "    - 通常保证stride == size 即不重叠\n",
    "    - 不适用padding 不补零 直接舍弃\n",
    "    - 用于减少计算量 提取重要特征\n",
    "    - 损失位置信息\n",
    "    - 一定程度上提高位置鲁棒性(输入位置轻微改变不会影响效果)\n",
    "    \n",
    "### 全连接层\n",
    "- 将图像展开成为普通神经网络层\n",
    "- 参数较多 通常占cnn主要参数比重\n",
    "\n",
    "\n",
    "### 总结\n",
    "- 卷积神经网络\n",
    "> 卷积神经网络 = 卷积层 + 池化层 + 全连接层\n",
    "- 全卷积神经网络\n",
    "> 作用：图像 -> 图像\n",
    "> 全卷积神经网络 = 卷积层 + 池化层 (卷积层包括真烦卷积层 stride<1 反卷积)\n",
    "\n"
   ]
  },
  {
   "cell_type": "markdown",
   "metadata": {
    "colab": {},
    "colab_type": "code",
    "id": "0adrB1XBVVJI"
   },
   "source": [
    "### 进阶实际的cnn"
   ]
  },
  {
   "cell_type": "markdown",
   "metadata": {},
   "source": [
    "- 基本结构\n",
    "    - AlexNet\n",
    "    - VGGNet\n",
    "    - ResNet\n",
    "    - InceptionV1-V4\n",
    "    - MobileNet\n",
    "    - 模型效果-> 参数量 运算量 并行度 模型效果(accuracy) 性价比\n",
    "- 关键技巧\n",
    "    - dropout\n",
    "    - 分组卷积 \n",
    "    - 1\\*1 网络 实现通道缩减 并且实现分组卷积 mobileNet InceptionNet中多用\n",
    "    - 3\\*3 网络多用 \n",
    "    - 双层3\\*3 代替 5\\*5  1\\*3+3\\*1 = 3\\*3 技巧 减少参数 增加非线性度\n",
    "    - pooling 相对少用 可以用卷积减少尺寸 用1\\*1减少通道\n",
    "    - resnet有效解决层次无法加深问题 引入残差网络 保留原始输入\n",
    "    - dropout技术有效的两种解释： 1 组合角度 以来角度 2 数据角度\n",
    "    - 数据增强 普通sample增强+缩放后分别训练再合并\n",
    "    - 多层conv+一层polling 常用 例如VGG\n",
    "    - 每个cnn都会有自身的迭代更新版本 当前最好的Inceptionv4就是res+inception net\n",
    "    - Inceptionnet主要是用分组卷积 并且每个分组使用不同类型特征提取器，表现google注重通过工业角度提升运算速度\n",
    "    - MobileNet着重通过1\\*1将中间通道变成1 实现加速分组卷积\n",
    "    - VGG的普通加深 Res的大程度加深 Inception mobile加宽\n",
    "    - Alexnet本身引入了很多优质的特性 包括分组独立卷积最终组合\n",
    "    - fully connect减少 更多的强调卷积复杂性 增加深度参数量未增大很多\n",
    "    - 深度增大 参数增多-> 运算量增大 难以学成 容易过拟合\n",
    "    - batch normalization\n",
    "    - resnet \n",
    "        - 减少的规模 与通道倍增呈现 /2 \\*2规律\n",
    "        - padding = 'same' 是指 在stride = (1,1) 下的效果 当改变stride 实现subsampling conv都需要same在resnet中\n",
    "        - 对于resnet 需要使用global average polling 就是全局池化\n",
    "        - 一个残差块中 可以使一个subsampling的conv+不改变大小的conv\n",
    "        - 或者使用一个subsampling的conv+头尾1\\*1的改变通道的非线性层\n",
    "    - 编程技巧： \n",
    "        - 使用shape检测来校验是否成功搭建\n",
    "        - fine tuning很重要\n",
    "        - "
   ]
  },
  {
   "cell_type": "markdown",
   "metadata": {},
   "source": [
    "### 接下来会有实战VGG ResNet InceptionNet MobileNet"
   ]
  },
  {
   "cell_type": "code",
   "execution_count": null,
   "metadata": {
    "collapsed": true
   },
   "outputs": [],
   "source": []
  }
 ],
 "metadata": {
  "colab": {
   "collapsed_sections": [],
   "name": "learn02_cnn.ipynb",
   "provenance": [
    {
     "file_id": "1vlgyAwsXr70L5tjkmAsna1fIaMjVJrYB",
     "timestamp": 1562115277298
    }
   ],
   "version": "0.3.2"
  },
  "kernelspec": {
   "display_name": "Python 3",
   "language": "python",
   "name": "python3"
  },
  "language_info": {
   "codemirror_mode": {
    "name": "ipython",
    "version": 3
   },
   "file_extension": ".py",
   "mimetype": "text/x-python",
   "name": "python",
   "nbconvert_exporter": "python",
   "pygments_lexer": "ipython3",
   "version": "3.6.7"
  }
 },
 "nbformat": 4,
 "nbformat_minor": 1
}
