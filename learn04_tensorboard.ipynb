{
 "cells": [
  {
   "cell_type": "markdown",
   "metadata": {},
   "source": [
    "# Tensorboard"
   ]
  },
  {
   "cell_type": "markdown",
   "metadata": {},
   "source": [
    "- 指定面板图上的变量\n",
    "    - 是summary\n",
    "    - 通常merge_all起来 也可以[,]单独指定(e.g.测试时与训练时统计的量不同)\n",
    "- 计算变量并且保存到文件中\n",
    "    - 指定到文件夹 会自动创建\n",
    "    - 需要创建文件句柄 最后add_summary即可写入 \n",
    "    - 计算运行merge即可\n",
    "    - 写入需要指定step num\n",
    "- 利用tensorboard程序解析文件"
   ]
  },
  {
   "cell_type": "markdown",
   "metadata": {
    "code_folding": []
   },
   "source": [
    "## import"
   ]
  },
  {
   "cell_type": "code",
   "execution_count": null,
   "metadata": {},
   "outputs": [],
   "source": [
    "import tensorflow as tf\n",
    "import os\n",
    "import pickle\n",
    "import numpy as np\n",
    "import pandas as pd\n",
    "import matplotlib.pyplot as plt\n",
    "\n",
    "CIFAR_DIR = './cifar-10-batches-py'\n",
    "print(os.listdir(CIFAR_DIR))"
   ]
  },
  {
   "cell_type": "markdown",
   "metadata": {},
   "source": [
    "## load data"
   ]
  },
  {
   "cell_type": "code",
   "execution_count": null,
   "metadata": {
    "code_folding": []
   },
   "outputs": [],
   "source": [
    "def load_data(filename):\n",
    "    \"\"\"read data from data file.\"\"\"\n",
    "    with open(filename, 'rb') as f:\n",
    "        data = pickle.load(f, encoding='bytes')\n",
    "        return data[b'data'], data[b'labels']\n",
    "\n",
    "# tensorflow.Dataset.\n",
    "class CifarData:\n",
    "    def __init__(self, filenames, need_shuffle):\n",
    "        all_data = []\n",
    "        all_labels = []\n",
    "        for filename in filenames:\n",
    "            data, labels = load_data(filename)\n",
    "            all_data.append(data)\n",
    "            all_labels.append(labels)\n",
    "        # hstack vstack 用于合并二维数组变成矩阵形式\n",
    "        self._data = np.vstack(all_data)\n",
    "        self._data = self._data / 127.5 - 1\n",
    "        # 小心\n",
    "        self._labels = np.hstack(all_labels)\n",
    "        print(self._data.shape)\n",
    "        print(self._labels.shape)\n",
    "        \n",
    "        self._num_examples = self._data.shape[0]\n",
    "        self._need_shuffle = need_shuffle\n",
    "        self._indicator = 0\n",
    "        if self._need_shuffle:\n",
    "            self._shuffle_data()\n",
    "            \n",
    "    def _shuffle_data(self):\n",
    "        # [0,1,2,3,4,5] -> [5,3,2,4,0,1]\n",
    "        p = np.random.permutation(self._num_examples)\n",
    "        self._data = self._data[p]\n",
    "        self._labels = self._labels[p]\n",
    "    \n",
    "    def next_batch(self, batch_size):\n",
    "        \"\"\"return batch_size examples as a batch.\"\"\"\n",
    "        end_indicator = self._indicator + batch_size\n",
    "        if end_indicator > self._num_examples:\n",
    "            if self._need_shuffle:\n",
    "                self._shuffle_data()\n",
    "                self._indicator = 0\n",
    "                end_indicator = batch_size\n",
    "            else:\n",
    "                raise Exception(\"have no more examples\")\n",
    "        if end_indicator > self._num_examples:\n",
    "            raise Exception(\"batch size is larger than all examples\")\n",
    "        batch_data = self._data[self._indicator: end_indicator]\n",
    "        batch_labels = self._labels[self._indicator: end_indicator]\n",
    "        self._indicator = end_indicator\n",
    "        return batch_data, batch_labels\n",
    "\n",
    "train_filenames = [os.path.join(CIFAR_DIR, 'data_batch_%d' % i) for i in range(1, 6)]\n",
    "test_filenames = [os.path.join(CIFAR_DIR, 'test_batch')]\n",
    "\n",
    "train_data = CifarData(train_filenames, True)\n",
    "test_data = CifarData(test_filenames, False)"
   ]
  },
  {
   "cell_type": "markdown",
   "metadata": {},
   "source": [
    "## model defination"
   ]
  },
  {
   "cell_type": "code",
   "execution_count": null,
   "metadata": {},
   "outputs": [],
   "source": [
    "tf.reset_default_graph() # 利用这个可清空defualt graph以及nodes\n",
    "\n",
    "x = tf.placeholder(tf.float32, [None, 3072])\n",
    "y = tf.placeholder(tf.int64, [None])\n",
    "# [None], eg: [0,5,6,3]\n",
    "x_image = tf.reshape(x, [-1, 3, 32, 32])\n",
    "# 32*32\n",
    "x_image = tf.transpose(x_image, perm=[0, 2, 3, 1])\n",
    "\n",
    "# conv1: 神经元图， feature_map, 输出图像\n",
    "conv1_1 = tf.layers.conv2d(x_image,\n",
    "                         32, # output channel number\n",
    "                         (3,3), # kernel size\n",
    "                         padding = 'same',\n",
    "                         activation = tf.nn.relu,\n",
    "                         name = 'conv1_1')\n",
    "\n",
    "conv1_2 = tf.layers.conv2d(conv1_1,\n",
    "                         32, # output channel number\n",
    "                         (3,3), # kernel size\n",
    "                         padding = 'same',\n",
    "                         activation = tf.nn.relu,\n",
    "                         name = 'conv1_2')\n",
    "# 16 * 16\n",
    "pooling1 = tf.layers.max_pooling2d(conv1_2,\n",
    "                                   (2, 2), # kernel size\n",
    "                                   (2, 2), # stride\n",
    "                                   name = 'pool1')\n",
    "\n",
    "\n",
    "conv2_1 = tf.layers.conv2d(pooling1,\n",
    "                         64, # output channel number\n",
    "                         (3,3), # kernel size\n",
    "                         padding = 'same',\n",
    "                         activation = tf.nn.relu,\n",
    "                         name = 'conv2_1')\n",
    "conv2_2 = tf.layers.conv2d(conv2_1,\n",
    "                         64, # output channel number\n",
    "                         (3,3), # kernel size\n",
    "                         padding = 'same',\n",
    "                         activation = tf.nn.relu,\n",
    "                         name = 'conv2_2')\n",
    "# 8 * 8\n",
    "pooling2 = tf.layers.max_pooling2d(conv2_2,\n",
    "                                   (2, 2), # kernel size\n",
    "                                   (2, 2), # stride\n",
    "                                   name = 'pool2')\n",
    "\n",
    "conv3_1 = tf.layers.conv2d(pooling2,\n",
    "                         128, # output channel number\n",
    "                         (3,3), # kernel size\n",
    "                         padding = 'same',\n",
    "                         activation = tf.nn.relu,\n",
    "                         name = 'conv3_1')\n",
    "conv3_2 = tf.layers.conv2d(conv3_1,\n",
    "                         128, # output channel number\n",
    "                         (3,3), # kernel size\n",
    "                         padding = 'same',\n",
    "                         activation = tf.nn.relu,\n",
    "                         name = 'conv3_2')\n",
    "\n",
    "# 4 * 4 * 32\n",
    "pooling3 = tf.layers.max_pooling2d(conv3_2,\n",
    "                                   (2, 2), # kernel size\n",
    "                                   (2, 2), # stride\n",
    "                                   name = 'pool3')\n",
    "# [None, 4 * 4 * 32]\n",
    "flatten = tf.layers.flatten(pooling3)\n",
    "y_ = tf.layers.dense(flatten, 10)\n",
    "\n",
    "loss = tf.losses.sparse_softmax_cross_entropy(labels=y, logits=y_)\n",
    "# y_ -> sofmax\n",
    "# y -> one_hot\n",
    "# loss = ylogy_\n",
    "\n",
    "# [1,0,1,1,1,0,0,0]\n",
    "correct_prediction = tf.equal(tf.argmax(y_, 1), y)\n",
    "accuracy = tf.reduce_mean(tf.cast(correct_prediction, tf.float64))\n",
    "\n",
    "with tf.name_scope('train_op'):\n",
    "    train_op = tf.train.AdamOptimizer(1e-3).minimize(loss)"
   ]
  },
  {
   "cell_type": "markdown",
   "metadata": {},
   "source": [
    "## tensorboard 使用"
   ]
  },
  {
   "cell_type": "markdown",
   "metadata": {},
   "source": [
    " ### var defination\n",
    " - 自带batchsize维度不需要担心"
   ]
  },
  {
   "cell_type": "code",
   "execution_count": null,
   "metadata": {},
   "outputs": [],
   "source": [
    "# 定义变量实现有效保存 可以指定保存内容名字\n",
    "loss_summary = tf.summary.scalar('loss',loss)\n",
    "# 'loss':[<loss,step>,<loss,steps>,...]\n",
    "accuracy_summary = tf.summary.scalar('accuracy',accuracy)\n",
    "# 自带batchsize维度不需要担心\n",
    "source_image = (x_image+1)*127.5\n",
    "image_summary = tf.summary.image('source_image',source_image)\n",
    "\n",
    "def show_variables(var,name):\n",
    "    \"\"\"show variables in tensorboard\"\"\"\n",
    "    \"\"\"指定名字防止重复summary\"\"\"\n",
    "    with tf.name_scope(name):\n",
    "        mean = tf.reduce_mean(var)\n",
    "        with tf.name_scope('stddev'):\n",
    "            stddev = tf.sqrt(tf.reduce_mean(tf.square(var-mean)))\n",
    "        min_summary = tf.summary.scalar('min',tf.reduce_min(var))\n",
    "        max_summary = tf.summary.scalar('max',tf.reduce_max(var))\n",
    "        mean_summary = tf.summary.scalar('mean',mean)\n",
    "        stddev_summary = tf.summary.scalar('stddev',stddev)\n",
    "        histogram_summary = tf.summary.histogram('histogram',var)"
   ]
  },
  {
   "cell_type": "markdown",
   "metadata": {},
   "source": [
    "### 指定merge+dirpath"
   ]
  },
  {
   "cell_type": "code",
   "execution_count": null,
   "metadata": {},
   "outputs": [],
   "source": [
    "# 调用\n",
    "with tf.name_scope('summary_variables'):\n",
    "    show_variables(conv1_1,'conv1_1')\n",
    "    show_variables(conv1_2,'conv1_2')\n",
    "    show_variables(conv2_1,'conv2_1')\n",
    "    show_variables(conv2_2,'conv2_2')\n",
    "    show_variables(conv3_1,'conv3_1')\n",
    "    show_variables(conv3_2,'conv3_2')\n",
    "# 指定merge\n",
    "merge_summary_all = tf.summary.merge_all()\n",
    "merge_summary_test = tf.summary.merge([loss_summary,accuracy_summary])\n",
    "# filehandler\n",
    "LOG_DIR = './run'\n",
    "run_label = 'run_vgg_tensorboard'\n",
    "run_dir = os.path.join(LOG_DIR,run_label)\n",
    "train_log_dir = os.path.join(run_dir,'train')\n",
    "test_log_dir = os.path.join(run_dir,'test')\n",
    "if not os.path.exists(train_log_dir):\n",
    "    os.makedirs(train_log_dir)\n",
    "if not os.path.exists(test_log_dir):\n",
    "    os.makedirs(test_log_dir)\n"
   ]
  },
  {
   "cell_type": "markdown",
   "metadata": {},
   "source": [
    "### 指定filewriter+运行summary(merge)"
   ]
  },
  {
   "cell_type": "code",
   "execution_count": null,
   "metadata": {},
   "outputs": [],
   "source": [
    "# cfg = tf.ConfigProto(allow_soft_placement=True )\n",
    "# cfg.gpu_options.allow_growth = True\n",
    "init = tf.global_variables_initializer()\n",
    "batch_size = 20\n",
    "train_steps = 1000\n",
    "test_steps = 100\n",
    "\n",
    "# 由于summary耗时 指定轮次\n",
    "output_summary_steps_num = 100\n",
    "# train 10k: 71.35%\n",
    "with tf.Session() as sess:\n",
    "    sess.run(init)\n",
    "    # filewriter\n",
    "    # 可以指定sess.graph 或者不指定\n",
    "    train_filewriter = tf.summary.FileWriter(train_log_dir,sess.graph)\n",
    "    test_filewriter = tf.summary.FileWriter(test_log_dir)\n",
    "    \n",
    "    # 每次在test上想要选择同一批数据进行summary 在train时没有这种需求\n",
    "    fixed_test_log_data,fixed_test_log_labels = test_data.next_batch(batch_size)\n",
    "    \n",
    "    for i in range(train_steps):\n",
    "        batch_data,batch_labels = train_data.next_batch(batch_size)\n",
    "        # 运行summary\n",
    "        eval_ops = [loss, accuracy, train_op]\n",
    "        should_output_summary = (i+1) % output_summary_steps_num == 0\n",
    "        if should_output_summary:\n",
    "            eval_ops.append(merge_summary_all)\n",
    "        \n",
    "        eval_ops_result = sess.run(\n",
    "            eval_ops,\n",
    "            feed_dict={\n",
    "                x: batch_data,\n",
    "                y: batch_labels})\n",
    "        \n",
    "        loss_val,acc_val = eval_ops_result[0:2]\n",
    "        # 写入 必须记得指定轮次\n",
    "        if should_output_summary:\n",
    "            train_summary_result = eval_ops_result[-1]\n",
    "            train_filewriter.add_summary(train_summary_result,i+1)\n",
    "            test_summary_result = sess.run(merge_summary_test,\n",
    "                                          feed_dict = {\n",
    "                                              x:fixed_test_log_data,\n",
    "                                              y:fixed_test_log_labels\n",
    "                                          })\n",
    "            test_filewriter.add_summary(test_summary_result,i+1)\n",
    "            \n",
    "            \n",
    "        if (i+1) % 50 == 0:\n",
    "            print('[Train] Step: %d, loss: %4.5f, acc: %4.5f' \n",
    "                  % (i+1, loss_val, acc_val))\n",
    "            \n",
    "        if (i+1) % 200 == 0:\n",
    "            test_data = CifarData(test_filenames, False)\n",
    "            all_test_acc_val = []\n",
    "            for j in range(test_steps):\n",
    "                test_batch_data, test_batch_labels \\\n",
    "                    = test_data.next_batch(batch_size)\n",
    "                test_acc_val = sess.run(\n",
    "                    [accuracy],\n",
    "                    feed_dict = {\n",
    "                        x: test_batch_data, \n",
    "                        y: test_batch_labels\n",
    "                    })\n",
    "                all_test_acc_val.append(test_acc_val)\n",
    "            test_acc = np.mean(all_test_acc_val)\n",
    "            print('[Test ] Step: %d, acc: %4.5f'\n",
    "                  % (i+1, test_acc))"
   ]
  },
  {
   "cell_type": "markdown",
   "metadata": {},
   "source": [
    "### 调用命令解析+观察结果"
   ]
  },
  {
   "cell_type": "code",
   "execution_count": null,
   "metadata": {},
   "outputs": [],
   "source": [
    "# 指定多个文件夹可以再显示的时候选择性显示\n",
    "! tensorboard --logdir='test':./run/run_vgg_tensorboard/test,'train':./run/run_vgg_tensorboard/train"
   ]
  },
  {
   "cell_type": "code",
   "execution_count": null,
   "metadata": {},
   "outputs": [],
   "source": []
  }
 ],
 "metadata": {
  "kernelspec": {
   "display_name": "Python 3",
   "language": "python",
   "name": "python3"
  },
  "language_info": {
   "codemirror_mode": {
    "name": "ipython",
    "version": 3
   },
   "file_extension": ".py",
   "mimetype": "text/x-python",
   "name": "python",
   "nbconvert_exporter": "python",
   "pygments_lexer": "ipython3",
   "version": "3.6.7"
  },
  "toc": {
   "base_numbering": 1,
   "nav_menu": {},
   "number_sections": true,
   "sideBar": true,
   "skip_h1_title": false,
   "title_cell": "Table of Contents",
   "title_sidebar": "Contents",
   "toc_cell": false,
   "toc_position": {},
   "toc_section_display": true,
   "toc_window_display": false
  }
 },
 "nbformat": 4,
 "nbformat_minor": 2
}
